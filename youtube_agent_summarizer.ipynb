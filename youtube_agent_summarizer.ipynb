{
 "cells": [
  {
   "cell_type": "code",
   "execution_count": 1,
   "metadata": {},
   "outputs": [],
   "source": [
    "from langchain_community.tools import YouTubeSearchTool\n",
    "from youtube_transcript_api import YouTubeTranscriptApi\n",
    "import ast\n",
    "import re\n",
    "from langchain_together import ChatTogether\n",
    "from dotenv import load_dotenv, find_dotenv\n",
    "from langchain_core.prompts import PromptTemplate\n",
    "from langchain_core.output_parsers.string import StrOutputParser\n",
    "from langchain_core.output_parsers.json import JsonOutputParser\n",
    "from typing_extensions import TypedDict\n",
    "from langgraph.graph import StateGraph\n",
    "from langgraph.graph import  END\n",
    "from gtts import gTTS"
   ]
  },
  {
   "cell_type": "code",
   "execution_count": 2,
   "metadata": {},
   "outputs": [
    {
     "data": {
      "text/plain": [
       "True"
      ]
     },
     "execution_count": 2,
     "metadata": {},
     "output_type": "execute_result"
    }
   ],
   "source": [
    "load_dotenv(find_dotenv())"
   ]
  },
  {
   "cell_type": "code",
   "execution_count": 3,
   "metadata": {},
   "outputs": [],
   "source": [
    "llm = ChatTogether(\n",
    "    model = \"meta-llama/Llama-3.3-70B-Instruct-Turbo\",\n",
    "    temperature = 0\n",
    ")"
   ]
  },
  {
   "cell_type": "code",
   "execution_count": 4,
   "metadata": {},
   "outputs": [],
   "source": [
    "text = \"Report mAIstro for multi-agent research\""
   ]
  },
  {
   "cell_type": "code",
   "execution_count": 5,
   "metadata": {},
   "outputs": [],
   "source": [
    "class State(TypedDict):\n",
    "    video_name: str\n",
    "    url: str\n",
    "    video_id: str\n",
    "    transcript: str\n",
    "    key_points: str\n",
    "    summary: str\n",
    "    audio_file: str"
   ]
  },
  {
   "cell_type": "code",
   "execution_count": 6,
   "metadata": {},
   "outputs": [],
   "source": [
    "graph = StateGraph(State)"
   ]
  },
  {
   "cell_type": "code",
   "execution_count": 7,
   "metadata": {},
   "outputs": [],
   "source": [
    "async def get_video_url(state: State):\n",
    "    \"\"\"\n",
    "    Searches YouTube for a given query and returns a video URL.\n",
    "\n",
    "    Args:\n",
    "        query (str): The search query.\n",
    "\n",
    "    Returns:\n",
    "        str: A YouTube video URL, or None if no results are found.\n",
    "    \"\"\"\n",
    "    refined_query = state['video_name']+\", 1\"\n",
    "    tool = YouTubeSearchTool()\n",
    "    result = tool.run(refined_query)\n",
    "\n",
    "    try:\n",
    "        result_list = ast.literal_eval(result)  # Convert string to list\n",
    "        return {\"url\": result_list[0]} if result_list else {\"url\": None}  \n",
    "    except (SyntaxError, ValueError):\n",
    "        print(\"Error parsing YouTube search results.\")\n",
    "        return {\"url\": None}"
   ]
  },
  {
   "cell_type": "code",
   "execution_count": 8,
   "metadata": {},
   "outputs": [],
   "source": [
    "async def get_video_id_from_url(state: State) -> str:\n",
    "    \"\"\"\n",
    "    Extracts the video ID from a YouTube URL.\n",
    "    \n",
    "    Args:\n",
    "        youtube_url (str): The full YouTube video URL.\n",
    "\n",
    "    Returns:\n",
    "        str: The extracted video ID, or None if not found.\n",
    "    \"\"\"\n",
    "    match = re.search(r\"(?:v=|\\/embed\\/|\\/v\\/|\\/vi\\/|youtu\\.be\\/|\\/e\\/|watch\\?v=|&v=)([a-zA-Z0-9_-]{11})\", state['url'])\n",
    "    return {\"video_id\": match.group(1)} if match else {\"video_id\": None}"
   ]
  },
  {
   "cell_type": "code",
   "execution_count": 9,
   "metadata": {},
   "outputs": [],
   "source": [
    "\n",
    "async def transcribe_youtube_video(state: State):\n",
    "    \"\"\"\n",
    "    Fetches and transcribes a YouTube video using its video ID.\n",
    "\n",
    "    Args:\n",
    "        video_id (str): The YouTube video ID.\n",
    "\n",
    "    Returns:\n",
    "        str: The transcript text, or an error message if unavailable.\n",
    "    \"\"\"\n",
    "    try:\n",
    "        transcript = YouTubeTranscriptApi.get_transcript(state['video_id'])\n",
    "        transcript_text = \" \".join([entry[\"text\"] for entry in transcript])\n",
    "        return {\"transcript\": transcript_text}\n",
    "    except Exception as e:\n",
    "        print(f\"Error fetching transcript: {str(e)}\")\n",
    "        return {\"transcript\": None}"
   ]
  },
  {
   "cell_type": "code",
   "execution_count": 10,
   "metadata": {},
   "outputs": [],
   "source": [
    "async def get_video_summary(state: State):\n",
    "    \"\"\"\n",
    "    Generates a summary of a YouTube video transcript.\n",
    "\n",
    "    This function takes a video transcript stored in the given state \n",
    "    and processes it using an AI-powered summarization pipeline. \n",
    "    The summary captures the core points and main message of the video.\n",
    "\n",
    "    Args:\n",
    "        state (State): A state object containing the 'transcript' key \n",
    "                      with the video transcript as its value.\n",
    "\n",
    "    Returns:\n",
    "        dict: A dictionary containing the summary of the video \n",
    "              with the key 'summary'.\n",
    "    \"\"\"\n",
    "    summarizer_prompt = \"\"\"\n",
    "    You are a video summarizer that summarizes YouTube video transcripts. \n",
    "    Given this transcription: {transcription}\n",
    "    You are to create a summary that includes includes the crux of the video and contains the core points of the video.\n",
    "    \"\"\"\n",
    "    summarizer_prompt_template = PromptTemplate(\n",
    "        input_variables = ['transcripiton'],\n",
    "        template = summarizer_prompt\n",
    "    )\n",
    "    summarizer_chain = summarizer_prompt_template | llm | StrOutputParser()\n",
    "    summary = await summarizer_chain.ainvoke({\"transcription\": state['transcript']})\n",
    "    \n",
    "    return {\"summary\": summary}"
   ]
  },
  {
   "cell_type": "code",
   "execution_count": 11,
   "metadata": {},
   "outputs": [],
   "source": [
    "async def generate_audio_summary(state: State):\n",
    "    \"\"\"\n",
    "    Converts the video summary into an audio file.\n",
    "\n",
    "    Args:\n",
    "        state (State): Contains the 'summary' key with the summary text.\n",
    "\n",
    "    Returns:\n",
    "        dict: Dictionary containing the filename of the generated audio file.\n",
    "    \"\"\"\n",
    "    summary_text = state[\"summary\"]\n",
    "    \n",
    "    if not summary_text:\n",
    "        return {\"audio_file\": None}\n",
    "\n",
    "    try:\n",
    "        audio_filename = \"summary.mp3\"\n",
    "        tts = gTTS(text=summary_text, lang=\"en\")\n",
    "        tts.save(audio_filename)\n",
    "        return {\"audio_file\": audio_filename}\n",
    "    except Exception as e:\n",
    "        print(f\"Error generating audio: {e}\")\n",
    "        return {\"audio_file\": None}\n"
   ]
  },
  {
   "cell_type": "code",
   "execution_count": 12,
   "metadata": {},
   "outputs": [],
   "source": [
    "async def get_video_keypoints(state: State):\n",
    "    \"\"\"\n",
    "    Generates a summary of a YouTube video transcript.\n",
    "\n",
    "    This function takes a video transcript stored in the given state \n",
    "    and processes it using an AI-powered summarization pipeline. \n",
    "    The summary captures the core points and main message of the video.\n",
    "\n",
    "    Args:\n",
    "        state (State): A state object containing the 'transcript' key \n",
    "                      with the video transcript as its value.\n",
    "\n",
    "    Returns:\n",
    "        dict: A dictionary containing the summary of the video \n",
    "              with the key 'summary'.\n",
    "    \"\"\"\n",
    "    key_points_prompt = \"\"\"\n",
    "    You are a transcript Note-Taker that give the key-points of a YouTube video transcripts. \n",
    "    Given this transcription: {transcription}\n",
    "    You are to give 5 crucial keypoints that hit the crux of the video and contains the core points of the video.\n",
    "    \"\"\"\n",
    "    key_points_prompt_template = PromptTemplate(\n",
    "        input_variables = ['transcripiton'],\n",
    "        template = key_points_prompt\n",
    "    )\n",
    "    \n",
    "    key_points_chain = key_points_prompt_template | llm | StrOutputParser()\n",
    "    key_points = await key_points_chain.ainvoke({\"transcription\": state['transcript']})\n",
    "    \n",
    "    return {\"key_points\": key_points}"
   ]
  },
  {
   "cell_type": "code",
   "execution_count": 13,
   "metadata": {},
   "outputs": [],
   "source": [
    "async def sentiment_analysis(state: State):\n",
    "    pass"
   ]
  },
  {
   "cell_type": "code",
   "execution_count": 14,
   "metadata": {},
   "outputs": [],
   "source": [
    "def transcript_condition(state):\n",
    "    \"\"\"Decides the next step based on transcript availability.\"\"\"\n",
    "    transcript = state.get(\"transcript\")\n",
    "    if transcript is None or transcript.startswith(\"Error\"):  \n",
    "        return END  \n",
    "    return \"get_video_summary\""
   ]
  },
  {
   "cell_type": "code",
   "execution_count": 15,
   "metadata": {},
   "outputs": [
    {
     "data": {
      "text/plain": [
       "<langgraph.graph.state.StateGraph at 0x7241d3333cb0>"
      ]
     },
     "execution_count": 15,
     "metadata": {},
     "output_type": "execute_result"
    }
   ],
   "source": [
    "graph.add_node(\"get_video_url\", get_video_url)\n",
    "graph.add_node(\"get_video_id_from_url\", get_video_id_from_url)\n",
    "graph.add_node(\"transcribe_youtube_video\", transcribe_youtube_video)\n",
    "graph.add_node(\"get_video_summary\", get_video_summary)\n",
    "graph.add_node(\"generate_audio_summary\", generate_audio_summary)\n",
    "graph.add_node(\"get_video_keypoints\", get_video_keypoints)"
   ]
  },
  {
   "cell_type": "code",
   "execution_count": 16,
   "metadata": {},
   "outputs": [],
   "source": [
    "graph.add_edge(\"get_video_url\", \"get_video_id_from_url\")\n",
    "graph.add_edge(\"get_video_id_from_url\", \"transcribe_youtube_video\")\n",
    "graph.add_conditional_edges(\"transcribe_youtube_video\", transcript_condition)\n",
    "graph.add_edge(\"transcribe_youtube_video\", \"get_video_summary\")\n",
    "graph.add_edge(\"transcribe_youtube_video\", \"get_video_keypoints\")\n",
    "graph.add_edge(\"get_video_summary\", \"generate_audio_summary\")\n",
    "\n",
    "graph.add_edge(\"generate_audio_summary\", END)\n",
    "graph.add_edge(\"get_video_keypoints\", END)\n",
    "\n",
    "# Define entry and output nodes\n",
    "graph.set_entry_point(\"get_video_url\")\n",
    "\n",
    "# Compile the LangGraph workflow\n",
    "transcriber_workflow = graph.compile()"
   ]
  },
  {
   "cell_type": "code",
   "execution_count": 17,
   "metadata": {},
   "outputs": [],
   "source": [
    "\n",
    "# Function to run the workflow\n",
    "async def run_transcriber(video_name: str):\n",
    "    initial_state = {\"video_name\": video_name, \"url\": \"\", \"video_id\": \"\", \"transcript\": \"\", \"key_points\": \"\", \"summary\": \"\", \"audio_file\": \"\"}\n",
    "    final_state = await transcriber_workflow.ainvoke(initial_state)\n",
    "    return final_state"
   ]
  },
  {
   "cell_type": "code",
   "execution_count": 18,
   "metadata": {},
   "outputs": [],
   "source": [
    "query = \"Golang FAILED Me! Here's What Worked Instead\"\n",
    "result = await run_transcriber(query)"
   ]
  },
  {
   "cell_type": "code",
   "execution_count": 19,
   "metadata": {},
   "outputs": [
    {
     "data": {
      "text/plain": [
       "{'video_name': \"Golang FAILED Me! Here's What Worked Instead\",\n",
       " 'url': 'https://www.youtube.com/watch?v=t8HDXwgn0I8&pp=ygUsR29sYW5nIEZBSUxFRCBNZSEgSGVyZSdzIFdoYXQgV29ya2VkIEluc3RlYWQ%3D',\n",
       " 'video_id': 't8HDXwgn0I8',\n",
       " 'transcript': \"what's going on ladies and gentlemen this video is going to be a banger because go sucks of course not so um for the people that don't know this is basically a video that has been requested uh for a for multiple times now is why do I need to basically move to another language um instead of using go for my client right and what is the language I basically picked is it is it C++ is it Odin is it Z I basically used all of them and uh you want to see if you want to if you want to know what kind of a uh what what language it will be definitely you need to basically check uh need to stick around right don't don't don't leave okay uh for the people but before we continue for the people that like the videos I am providing consider subscribing to my channel you would do me an enormous favor so I can make Grandma proud reaching 100K subscribers by the end of the year actually till the summer would be would be uh a much better goal so uh don't forget to like and sub subscribe to the video and join the Discord Community the links are in the description right so first of all for the people are just watching and have no clue what Market monkey is Market monkey is a project that I'm building kind of on the site uh which basically you can have access to the source code check the link down in the description as well if you want to learn all the the journey and have Insider access and all that things uh check the link down in the description right it's pretty amazing so Market monkey is a trading terminal and uh for cryptocurrencies right uh and it's basically divided in two parts we have a backend which is goang and it's built with acus and it's distributed and it's amazing okay uh but we also have a client and the client the front end so to say right and the client it's very important that it's going to be a native desktop app right it's going to run on the desktop okay uh but it's also important that I can compile that desktop app that code into uh wasm into a web assembly module that I can run in the browser right it's very important from a business perspective and I just want that that's something that I want and when I started riding uh Market monkey I was using the aitan engine right uh AIT engine basically which is Eng goaling it's a very very good um it's not it's you can say it's a game engine but it's a very minimalistic one um but it completely uh uses pure go it does not use a SEO so you can actually compile it to wasm um which basically solved my problem right I could have my uh back end Eng goaling I could have my client desktop Eng goaling I could compile it to wasm run it in the browser everything in golang my favorite language um man this is a dream okay and that's what I did and it worked very well until a certain point of time so you need to understand that the things that I'm building with Market monkey you can check videos about it uh on my channel it's pretty complex right especially the UI there's a lot of going on a lot of stuff needs to be drawn on the screen a lot of computations as well on the client and what what I noticed after adding and adding and adding more features to the to the to the application is that things are acting slow not so say not so to speak on the desktop side of things but more on the wasm side of things and these things need to be on part okay that wasm is not going to perform uh at a native speed as desktop we all agree on that but still it was a big difference right and how why is that so basically when you compile go to wasm it's also go going to compile it it whole runtime and garbage collector into that wasm blob right so uh it's going to be a large blob but that's okay I mean 20 25 30 megabytes 20 megabytes hey um it is what it is you know I mean you watch too much uh all the stuff XXX that's way more Megabytes you're going to download right so that's not a big of a deal the problem is the run time the interrup between go and JavaScript is basically a little bit scuffed um and causes a lot of CPU hassle uh and and it's just it's slow right but okay cool I noticed that I basically was expecting that and I was thinking okay I will basically turn my functions inside down cash everything try to minimize computations uh put a little bit of AI on top of that double checking improving improving but still was not what I wanted right so I reached out to um creators from the maintainers from a bit engine um talk to a little to some people in the community from goang and there's basically nothing we can do about it's just something we need to live with that right um but if you take this uh people say okay why don't you use tiny go that's also an option because tiny go basically compiles to wasm and without the run time and all the other Shenanigans the problem is that um tiny go doesn't basically a bit engine doesn't compile with tiny go because it uses reflection and Tiny go uh cannot handle that so it basically you can already see that I was stuck right I'm just completely stuck and it makes a lot of sense because the things that I want to do are very Niche right they are very Niche and U go is just not made for that right um if you want to do something that I actually was planning to do or still planning to do we all can agree that goang for the client side for the back end it's amazing right goang networking distributed actors it's amazing and I would never drop that for anything else but for the client it's just it's game over right um and it makes sense go is just not made for that as simple as it is and that's basically on me right I'm the only one to blame here made a bad decision I thought I could pull it off but I couldn't so now I'm here and instead of being demotivated I needed to search for Solutions so first of all is um some people say hey why don't you use I'm gooey and I know I'm gooey a bit but uh basically never actually investigated it and for the people that don't know what im is IM is a C++ Library uh immediate uh immediate goey basically um which basically DWS UI in immediate mode which is amazing um without any state it's cool it's it's it's nice so I said okay cool now that we need to swap uh from go although go has IM Gooby bindings but again you cannot compile it to wasm yada yada y Bend you know let's just forget that idea so um what is the solution we need to pick another language right so in my opinion if I need to pick another language it's either going to be C++ itself right it's going to be rust Z or Odin there are a lot of other languages I completely agree but I mean yeah okay uh we can just pick them all right so first of all rust is completely out of scope I don't like rust uh I will never like rust it's just my personal preference is it a bad language it's probably not a bad language it it has some cool ideas but in my opinion it's a little bit too big it tries to do a little bit too much and I'm a simple man I'm also a boomer turning turning 39 this year so rust is out of the equation um okay so then we have um Zig I never wrote Zig in my whole life and I tried it on stream and and I going to say that Zig is a pretty amazing language right uh it's still a bit rough on the edges like tooling and all that stuff is a little bit it's a it's a little bit rough but um the build system of zik is the best build system that was ever created uh on the whole planet in the language it's just amazing right you specify some libraries uh some you could just specify some some C headed files and all that and it's going to compile link everything together create automatic bindings for it and you're done easy peasy I saw a soal z soal UI uh repository I cloned that I tried it and everything just worked I'm with impot impot is a plotter for IM am  for charts and all that Shenanigans which is amazing especially for what I'm going to do and it all just worked it compiled to to was withm scripton it was amazing the problem is in my opinion these languages are they are not for me although is a nice language and it does it's amazing language so if people if you want to learn a language and you don't know you don't have no clue what to learn learn Zig or something you know what I mean it's it's it's a very cool language but it's not for me it's just a way too much uh sugar I don't like sugar I'm lean I want to stay lean you know what I mean it's too much so and that's personal preference again and you're gonna hear that a lot it's a personal preference I just don't like it uh that much it's better as rust that's for sure but I just don't like it okay so but but it works everything just works if I used if I picked Z we were already been gaming you know what I mean uh but hey on the other side we have Odin language and uh a lot of people don't know Odin because it's like this Hidden Gem in my opinion um the olden language it writes like go it looks like Pas it's just Pascal is goish Style cish Style in my opinion um my favorite low-level Language by far I've been writing Odin for like two years or something especially for games and toy projects I also wrote like a simple editor uh in that it's on my patreon I guess at least a couple couple episodes of That So I know Odin well and it just writes this the same thing I have something in my mind mind and I can just write it that's why I like go lot right U because I could just um basically reflect my ideas in my mind on my screen without thinking of how do I need to do this how many ways just one way and in order it's just the same thing that's why I like it so much so the problem that I have right now and is a little bit of a journey and a little bit of a struggle not going to lie but I think that um true struggle is where you create a lot of progress a lot of uh knowledge the problem with Odin is that the build system is a little bit uh you need to do a lot of stuff yourself right and um although I have something working it's still kind of not there where I where it needs to be because I am missing um yeah C impl bindings and eventually we actually managed to get them to work but now I have a problem with the sole um with the so basically I'm gooey is this UI framework right but IM am goey doesn't draw L on the screen right IM uses the concept of a back end a rendering backend and there are a lot of rendering back ends you can use right so you could use the eitan uh back end in goang is also an IM gooey back end you could use rip you could use uh sdl2 um Vulcan direct X all that stuff and you can also use the sule backend right sule is a very very low level well it's a cross crossplatform thing to draw stuff and handle events you can check that out uh and why do I need socle because socle compiles to WM very easily and that was very important you can see the WM is is the is the biggest gu put it right but that's what I need right and I don't want to um I don't want to basically change my mind on on the the the wasm build and we have some problems with the uh I'm am gooey back end for suckle on Odin I don't know what it is it's probably a skill issue um but I will figure it out I'm very very determined to figure it out um like I said before this is I could basically just do something simple like JavaScript and write my application in that and I could get some users but that's not what I want I'm not here for the short run I have this Vision in my mind where I want the application to be if it's tomorrow that's nice if it's in three months I don't care right it's just my vision and I want to build exactly what I had in mind and I want to build it with a language that I basically enjoy writing it um because that's the most important thing right uh for me money is important of course because that's basically what uh puts uh food in your kids's mouth but by the end of the day uh waking up with a lot of Joy working on a project is very important and I don't think any other language would basically um fulfill that joy that I want ideally I could write everything in go but that's not uh possible unfortunately um yeah go creators man go maintainers they a lot of people already basically just complained about that like if they just could have this more lowlevel abstraction for go for these Niche things I don't understand the majority of the people don't need it but if you need it it's very uh annoying that they that they made a compiler in such a way that uh they cannot change it that easily that's what they say right they really want to have uh because the thing is wasm also will allow people to will allow languages to have uh I think it's multi threading that they are going to do and also garbage collecting and people uh suggested that on the on the go official uh getup repo but they just can't change the compiler that easily without breaking stuff right that's the problem and sometimes to make things better you need to break it first right um but they don't want to do that iy fair enough I can respect that and that's the problem right so how do we proceed here so basically um I wrote a lot of stuff in Odin right now uh everything is basically set up I wrote my own webs and all that stuff because it was not there also a little bit of a com of OD it's it's like there is there is nothing there's no tooling right you know what I mean um but that's not a big of a deal the language is very familiar for me so it's it's okay uh the problem is that I'm still a little bit scuffed a little bit actually uh maybe I should be that word out but I think you're all uh mature enough um to put that in context is that I'm still a little bit with my bindings right now um and I'm not basically a specialist in linking and and understanding everything low level and I do not really put myself through this through this hustle if I just use Z then I was already gaming you know what I mean but I really want to go through this struggle because I'm learning a lot as well right and that's for me also very important I'm Le learning a lot and I think um like I said before going to struggle put yourself in an uncomfort uncomfortable pos position can really um can really benefit you uh from a knowledge base right uh and that's something that I if my if my brain is not getting um how do you call that like St if I don't have any stimulant for my brain I get bored you know what I mean uh and that's why I'm doing this so basically I will figure it out guys no worry um you're going to see me writing a lot of go uh goang and Odin on stream and on videos if you want to have more Odin videos like I'm not I'm I'm not a specialist of Odin I just can do stuff in it but if you want to want more videos about it hey uh I will let me know in the comments I will uh definitely provide them to you if you want that and I will share some updates right and if there is some kind of a low-level linking C C+ C C++ Guru here that can help me fix the buildt um hey just reach out to me happy to pay you some money so I don't so I can learn and I don't need to spend all the time right so that's basically it um the conclusion is go is a great language for backend systems for networking um you can write some games in it as well but the problem is once you need to go a little bit more low level a little bit more um unsafe go is going to block you uh but that's actually something we already new Z an amazing language an amazing tool chain basically uh compiling it's it's it's just amazing the build system of Zig first class world class thing never been uh done before I really like it uh but the thing is that the language is not for me Odin great language um a lot of cool stuff is written in it uh but more on the gaming graphic s and um yeah it's just this just for me man it's it's it's it's written my my name the language calls my name man that's what it is uh and that's what we're going to do right put myself to struggle guys thank you for watching this video is a little bit of a Yap but you guys want to know what's what's going on well this is what's going on let me know what you think about it in the description and don't forget to like And subscribe the video if you liked it of course but we're already at the end so if you do not like the video you're probably not seeing this right so uh don't forget check the links in the description join Discord Community thank you very much for watching in this video and I see you soon on my live stream peace and love\",\n",
       " 'key_points': \"Here are the 5 crucial keypoints that summarize the video:\\n\\n1. **The creator is moving away from using Go for their client-side application**: The creator of the Market Monkey project is looking to replace Go with another language for their client-side application due to performance issues with WebAssembly (WASM) compilation.\\n\\n2. **Go is not suitable for low-level, high-performance applications**: The creator notes that while Go is great for backend systems and networking, it's not ideal for low-level, high-performance applications that require direct access to hardware resources, which is a limitation they're experiencing with their project.\\n\\n3. **The creator is exploring alternative languages, including C++, Zig, and Odin**: The creator is considering alternative languages to replace Go, including C++, Zig, and Odin, each with their own strengths and weaknesses, and is currently leaning towards using Odin due to its familiarity and low-level capabilities.\\n\\n4. **Odin is the chosen language, but it presents its own set of challenges**: The creator has chosen to use Odin, but is facing challenges with setting up the build system, creating bindings, and integrating with the IMGUI library, which is a crucial component of their application.\\n\\n5. **The creator is committed to overcoming the challenges and learning from the experience**: Despite the difficulties, the creator is determined to push through and learn from the experience, recognizing that struggling with complex problems is an essential part of the learning process and will ultimately benefit their knowledge and skills as a developer.\",\n",
       " 'summary': \"The video discusses the creator's experience with the Go programming language and its limitations, particularly when it comes to building a native desktop application that can be compiled to WebAssembly (WASM). The creator is building a project called Market Monkey, a trading terminal for cryptocurrencies, and initially used Go for both the backend and client-side. However, they encountered performance issues when compiling Go to WASM, which led them to explore alternative languages.\\n\\nThe creator considered using C++, Rust, Zig, and Odin, but ultimately decided against Rust due to personal preference. They experimented with Zig, which they found to be a great language with an excellent build system, but ultimately decided it wasn't the right fit for them. They also explored Odin, which they found to be a great language that writes like Go and has a similar style to Pascal.\\n\\nThe creator decided to use Odin for their project, despite its limited tooling and build system, because it allows them to write low-level code and compile to WASM. They are currently working on setting up their project with Odin and are encountering some challenges with linking and bindings, but are determined to figure it out.\\n\\nThe core points of the video are:\\n\\n* Go is a great language for backend systems and networking, but has limitations when it comes to building native desktop applications that can be compiled to WASM.\\n* The creator explored alternative languages, including C++, Rust, Zig, and Odin, and ultimately decided to use Odin for their project.\\n* Odin is a great language that allows for low-level coding and compilation to WASM, but has limited tooling and build system.\\n* The creator is currently working on setting up their project with Odin and is encountering some challenges, but is determined to figure it out.\\n\\nOverall, the video is a personal and technical discussion of the creator's experience with Go and their decision to switch to Odin for their project. It highlights the limitations of Go and the trade-offs of using alternative languages, and provides insight into the creator's thought process and decision-making.\",\n",
       " 'audio_file': 'summary.mp3'}"
      ]
     },
     "execution_count": 19,
     "metadata": {},
     "output_type": "execute_result"
    }
   ],
   "source": [
    "result"
   ]
  },
  {
   "cell_type": "code",
   "execution_count": 20,
   "metadata": {},
   "outputs": [
    {
     "name": "stdout",
     "output_type": "stream",
     "text": [
      "Here are the 5 crucial keypoints that summarize the video:\n",
      "\n",
      "1. **The creator is moving away from using Go for their client-side application**: The creator of the Market Monkey project is looking to replace Go with another language for their client-side application due to performance issues with WebAssembly (WASM) compilation.\n",
      "\n",
      "2. **Go is not suitable for low-level, high-performance applications**: The creator notes that while Go is great for backend systems and networking, it's not ideal for low-level, high-performance applications that require direct access to hardware resources, which is a limitation they're experiencing with their project.\n",
      "\n",
      "3. **The creator is exploring alternative languages, including C++, Zig, and Odin**: The creator is considering alternative languages to replace Go, including C++, Zig, and Odin, each with their own strengths and weaknesses, and is currently leaning towards using Odin due to its familiarity and low-level capabilities.\n",
      "\n",
      "4. **Odin is the chosen language, but it presents its own set of challenges**: The creator has chosen to use Odin, but is facing challenges with setting up the build system, creating bindings, and integrating with the IMGUI library, which is a crucial component of their application.\n",
      "\n",
      "5. **The creator is committed to overcoming the challenges and learning from the experience**: Despite the difficulties, the creator is determined to push through and learn from the experience, recognizing that struggling with complex problems is an essential part of the learning process and will ultimately benefit their knowledge and skills as a developer.\n"
     ]
    }
   ],
   "source": [
    "print(result['key_points'])"
   ]
  },
  {
   "cell_type": "code",
   "execution_count": 21,
   "metadata": {},
   "outputs": [
    {
     "name": "stdout",
     "output_type": "stream",
     "text": [
      "The video discusses the creator's experience with the Go programming language and its limitations, particularly when it comes to building a native desktop application that can be compiled to WebAssembly (WASM). The creator is building a project called Market Monkey, a trading terminal for cryptocurrencies, and initially used Go for both the backend and client-side. However, they encountered performance issues when compiling Go to WASM, which led them to explore alternative languages.\n",
      "\n",
      "The creator considered using C++, Rust, Zig, and Odin, but ultimately decided against Rust due to personal preference. They experimented with Zig, which they found to be a great language with an excellent build system, but ultimately decided it wasn't the right fit for them. They also explored Odin, which they found to be a great language that writes like Go and has a similar style to Pascal.\n",
      "\n",
      "The creator decided to use Odin for their project, despite its limited tooling and build system, because it allows them to write low-level code and compile to WASM. They are currently working on setting up their project with Odin and are encountering some challenges with linking and bindings, but are determined to figure it out.\n",
      "\n",
      "The core points of the video are:\n",
      "\n",
      "* Go is a great language for backend systems and networking, but has limitations when it comes to building native desktop applications that can be compiled to WASM.\n",
      "* The creator explored alternative languages, including C++, Rust, Zig, and Odin, and ultimately decided to use Odin for their project.\n",
      "* Odin is a great language that allows for low-level coding and compilation to WASM, but has limited tooling and build system.\n",
      "* The creator is currently working on setting up their project with Odin and is encountering some challenges, but is determined to figure it out.\n",
      "\n",
      "Overall, the video is a personal and technical discussion of the creator's experience with Go and their decision to switch to Odin for their project. It highlights the limitations of Go and the trade-offs of using alternative languages, and provides insight into the creator's thought process and decision-making.\n"
     ]
    }
   ],
   "source": [
    "print(result['summary'])"
   ]
  },
  {
   "cell_type": "code",
   "execution_count": null,
   "metadata": {},
   "outputs": [],
   "source": []
  }
 ],
 "metadata": {
  "kernelspec": {
   "display_name": ".agent_venv",
   "language": "python",
   "name": "python3"
  },
  "language_info": {
   "codemirror_mode": {
    "name": "ipython",
    "version": 3
   },
   "file_extension": ".py",
   "mimetype": "text/x-python",
   "name": "python",
   "nbconvert_exporter": "python",
   "pygments_lexer": "ipython3",
   "version": "3.12.3"
  }
 },
 "nbformat": 4,
 "nbformat_minor": 2
}
